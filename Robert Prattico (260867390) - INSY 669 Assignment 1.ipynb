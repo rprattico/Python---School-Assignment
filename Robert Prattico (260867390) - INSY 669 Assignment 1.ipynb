{
 "cells": [
  {
   "cell_type": "code",
   "execution_count": 1,
   "metadata": {},
   "outputs": [],
   "source": [
    "import nltk\n",
    "import re\n",
    "import requests\n",
    "from bs4 import BeautifulSoup\n",
    "import pandas as pd\n",
    "import numpy as np"
   ]
  },
  {
   "cell_type": "markdown",
   "metadata": {},
   "source": [
    "# Question A - Script 1"
   ]
  },
  {
   "cell_type": "code",
   "execution_count": 2,
   "metadata": {},
   "outputs": [],
   "source": [
    "url = \"https://en.wikipedia.org/wiki/List_of_automobile_manufacturers\"\n",
    "headers={\"User-Agent\":\"Mozilla/5.0 (Windows NT 10.0; Win64; x64) AppleWebKit/537.36 (KHTML, like Gecko) Chrome/42.0.2311.135 Safari/537.36 Edge/12.246\"}\n",
    "page=requests.get(url, headers=headers)"
   ]
  },
  {
   "cell_type": "code",
   "execution_count": 3,
   "metadata": {},
   "outputs": [],
   "source": [
    "soup=BeautifulSoup(page.text, \"html.parser\")"
   ]
  },
  {
   "cell_type": "code",
   "execution_count": 4,
   "metadata": {},
   "outputs": [],
   "source": [
    "cars=soup.find_all(\"a\", href=True)"
   ]
  },
  {
   "cell_type": "code",
   "execution_count": 5,
   "metadata": {},
   "outputs": [],
   "source": [
    "carbrands=[]\n",
    "for car in cars:\n",
    "    striptext=car.text.strip()\n",
    "    if striptext!=\"edit\":\n",
    "        carbrands.append(striptext)"
   ]
  },
  {
   "cell_type": "code",
   "execution_count": 6,
   "metadata": {},
   "outputs": [],
   "source": [
    "carbrands2=[car for car in carbrands if \"List \" not in car]\n",
    "carbrands3=[car for car in carbrands2 if \" industry \" not in car]\n",
    "carbrands4=[car for car in carbrands3 if \"[\" not in car]"
   ]
  },
  {
   "cell_type": "code",
   "execution_count": 7,
   "metadata": {},
   "outputs": [],
   "source": [
    "firstindex=carbrands4.index(\"SNVI\")\n",
    "finalindex=carbrands4.index(\"Vinaxuki\")+1"
   ]
  },
  {
   "cell_type": "code",
   "execution_count": 8,
   "metadata": {},
   "outputs": [],
   "source": [
    "carbrandsfinal=carbrands4[firstindex:finalindex]"
   ]
  },
  {
   "cell_type": "code",
   "execution_count": 10,
   "metadata": {},
   "outputs": [],
   "source": [
    "brandsdf=pd.DataFrame(carbrandsfinal, columns=[\"Car Brands\"])\n",
    "brandsdf.to_csv(\"C:/Users/rprat/OneDrive/Desktop/MMA Documents/Text Analytics/Car Brands.csv\", sep=\",\", index=False)"
   ]
  },
  {
   "cell_type": "markdown",
   "metadata": {},
   "source": [
    "# Question A - Script 2"
   ]
  },
  {
   "cell_type": "code",
   "execution_count": 11,
   "metadata": {},
   "outputs": [],
   "source": [
    "url=\"https://forums.edmunds.com/discussion/2864/general/x/entry-level-luxuryperformance- sedans\"\n",
    "headers={\"User-Agent\":\"Mozilla/5.0 (Windows NT 10.0; Win64; x64) AppleWebKit/537.36 (KHTML, like Gecko) Chrome/42.0.2311.135 Safari/537.36 Edge/12.246\"}\n",
    "page=requests.get(url, headers=headers)"
   ]
  },
  {
   "cell_type": "code",
   "execution_count": 12,
   "metadata": {},
   "outputs": [],
   "source": [
    "soup=BeautifulSoup(page.text, \"html.parser\")"
   ]
  },
  {
   "cell_type": "markdown",
   "metadata": {},
   "source": [
    "### Posts"
   ]
  },
  {
   "cell_type": "code",
   "execution_count": 61,
   "metadata": {},
   "outputs": [],
   "source": [
    "posts=soup.find_all(\"div\", class_=\"Message userContent\")"
   ]
  },
  {
   "cell_type": "code",
   "execution_count": 62,
   "metadata": {},
   "outputs": [],
   "source": [
    "postcollection=[]\n",
    "for post in posts:\n",
    "    postcollection.append(post.text)"
   ]
  },
  {
   "cell_type": "code",
   "execution_count": 63,
   "metadata": {},
   "outputs": [],
   "source": [
    "p=2\n",
    "while p!=100:\n",
    "    url2=f\"https://forums.edmunds.com/discussion/2864/general/x/entry-level-luxuryperformance- sedans/p{p}\"\n",
    "    page=requests.get(url2)\n",
    "    soup2=BeautifulSoup(page.text, \"html.parser\")\n",
    "    posts2=soup2.find_all(\"div\", class_=\"Message userContent\")\n",
    "    for post in posts2:\n",
    "        postcollection.append(post.text)\n",
    "    p+=1        "
   ]
  },
  {
   "cell_type": "code",
   "execution_count": 64,
   "metadata": {},
   "outputs": [],
   "source": [
    "pc_clean=[post.strip() for post in postcollection]"
   ]
  },
  {
   "cell_type": "code",
   "execution_count": 65,
   "metadata": {},
   "outputs": [
    {
     "data": {
      "text/plain": [
       "4951"
      ]
     },
     "execution_count": 65,
     "metadata": {},
     "output_type": "execute_result"
    }
   ],
   "source": [
    "len(pc_clean)"
   ]
  },
  {
   "cell_type": "markdown",
   "metadata": {},
   "source": [
    "### Users"
   ]
  },
  {
   "cell_type": "code",
   "execution_count": 18,
   "metadata": {},
   "outputs": [],
   "source": [
    "users=soup.find_all(\"span\", class_=\"Author\")"
   ]
  },
  {
   "cell_type": "code",
   "execution_count": 19,
   "metadata": {},
   "outputs": [],
   "source": [
    "usercollection=[]\n",
    "for user in users:\n",
    "    usercollection.append(user.text)"
   ]
  },
  {
   "cell_type": "code",
   "execution_count": 20,
   "metadata": {},
   "outputs": [],
   "source": [
    "p=2\n",
    "while p!=100:\n",
    "    url2=f\"https://forums.edmunds.com/discussion/2864/general/x/entry-level-luxuryperformance- sedans/p{p}\"\n",
    "    page=requests.get(url2)\n",
    "    soup2=BeautifulSoup(page.text, \"html.parser\")\n",
    "    users2=soup2.find_all(\"span\", class_=\"Author\")\n",
    "    for user in users2:\n",
    "        usercollection.append(user.text)\n",
    "    p+=1        "
   ]
  },
  {
   "cell_type": "code",
   "execution_count": 21,
   "metadata": {},
   "outputs": [],
   "source": [
    "uc_clean=[user.strip() for user in usercollection]"
   ]
  },
  {
   "cell_type": "code",
   "execution_count": 22,
   "metadata": {},
   "outputs": [
    {
     "data": {
      "text/plain": [
       "4951"
      ]
     },
     "execution_count": 22,
     "metadata": {},
     "output_type": "execute_result"
    }
   ],
   "source": [
    "len(uc_clean)"
   ]
  },
  {
   "cell_type": "markdown",
   "metadata": {},
   "source": [
    "### Date"
   ]
  },
  {
   "cell_type": "code",
   "execution_count": 23,
   "metadata": {},
   "outputs": [],
   "source": [
    "dates=soup.find_all(\"span\", class_=\"MItem DateCreated\")"
   ]
  },
  {
   "cell_type": "code",
   "execution_count": 24,
   "metadata": {},
   "outputs": [],
   "source": [
    "datecollection=[]\n",
    "for date in dates:\n",
    "    datecollection.append(date.text)"
   ]
  },
  {
   "cell_type": "code",
   "execution_count": 25,
   "metadata": {},
   "outputs": [],
   "source": [
    "p=2\n",
    "while p!=100:\n",
    "    url2=f\"https://forums.edmunds.com/discussion/2864/general/x/entry-level-luxuryperformance- sedans/p{p}\"\n",
    "    page=requests.get(url2)\n",
    "    soup2=BeautifulSoup(page.text, \"html.parser\")\n",
    "    dates2=soup2.find_all(\"span\", class_=\"MItem DateCreated\")\n",
    "    for date in dates2:\n",
    "        datecollection.append(date.text)\n",
    "    p+=1        "
   ]
  },
  {
   "cell_type": "code",
   "execution_count": 26,
   "metadata": {},
   "outputs": [],
   "source": [
    "date_clean=[date.strip() for date in datecollection]"
   ]
  },
  {
   "cell_type": "code",
   "execution_count": 27,
   "metadata": {},
   "outputs": [
    {
     "data": {
      "text/plain": [
       "4951"
      ]
     },
     "execution_count": 27,
     "metadata": {},
     "output_type": "execute_result"
    }
   ],
   "source": [
    "len(date_clean)"
   ]
  },
  {
   "cell_type": "code",
   "execution_count": 28,
   "metadata": {},
   "outputs": [],
   "source": [
    "forumactivitydf=pd.DataFrame({\"Date\":date_clean, \"User\":uc_clean, \"Post\": pc_clean})"
   ]
  },
  {
   "cell_type": "code",
   "execution_count": 29,
   "metadata": {},
   "outputs": [],
   "source": [
    "forumactivitydf.to_csv(\"C:/Users/rprat/OneDrive/Desktop/MMA Documents/Text Analytics/Forum Activity History.csv\", sep=\",\", index=False)"
   ]
  },
  {
   "cell_type": "markdown",
   "metadata": {},
   "source": [
    "# Question B"
   ]
  },
  {
   "cell_type": "code",
   "execution_count": 560,
   "metadata": {},
   "outputs": [],
   "source": [
    "count={}\n",
    "for word in carbrandsfinal:\n",
    "    count[word]=0"
   ]
  },
  {
   "cell_type": "code",
   "execution_count": 561,
   "metadata": {},
   "outputs": [],
   "source": [
    "for post in pc_clean:\n",
    "    words=post.split()\n",
    "    countedwords=[]\n",
    "    for brand in words:\n",
    "        if brand in carbrandsfinal and brand not in countedwords:\n",
    "            count[brand]+=1\n",
    "            countedwords.append(brand)"
   ]
  },
  {
   "cell_type": "code",
   "execution_count": 562,
   "metadata": {
    "scrolled": false
   },
   "outputs": [],
   "source": [
    "topbrandsdict=dict(sorted(count.items(), key=lambda item:item[1], reverse=True))"
   ]
  },
  {
   "cell_type": "code",
   "execution_count": 566,
   "metadata": {},
   "outputs": [],
   "source": [
    "sortedcounts=list(topbrandsdict.values())\n",
    "sortedcars=list(topbrandsdict.keys())\n",
    "\n",
    "top5count=sortedcounts[0:5]\n",
    "top5cars=sortedcars[0:5]\n",
    "\n",
    "top5df=pd.DataFrame(list(zip(top5cars, top5count)), columns=[\"Car Brand\", \"Unique Mention Frequency\"], index=[1,2,3,4,5])"
   ]
  },
  {
   "cell_type": "code",
   "execution_count": 567,
   "metadata": {},
   "outputs": [
    {
     "data": {
      "text/html": [
       "<div>\n",
       "<style scoped>\n",
       "    .dataframe tbody tr th:only-of-type {\n",
       "        vertical-align: middle;\n",
       "    }\n",
       "\n",
       "    .dataframe tbody tr th {\n",
       "        vertical-align: top;\n",
       "    }\n",
       "\n",
       "    .dataframe thead th {\n",
       "        text-align: right;\n",
       "    }\n",
       "</style>\n",
       "<table border=\"1\" class=\"dataframe\">\n",
       "  <thead>\n",
       "    <tr style=\"text-align: right;\">\n",
       "      <th></th>\n",
       "      <th>Car Brand</th>\n",
       "      <th>Unique Mention Frequency</th>\n",
       "    </tr>\n",
       "  </thead>\n",
       "  <tbody>\n",
       "    <tr>\n",
       "      <th>1</th>\n",
       "      <td>BMW</td>\n",
       "      <td>890</td>\n",
       "    </tr>\n",
       "    <tr>\n",
       "      <th>2</th>\n",
       "      <td>Acura</td>\n",
       "      <td>286</td>\n",
       "    </tr>\n",
       "    <tr>\n",
       "      <th>3</th>\n",
       "      <td>Infiniti</td>\n",
       "      <td>247</td>\n",
       "    </tr>\n",
       "    <tr>\n",
       "      <th>4</th>\n",
       "      <td>Lexus</td>\n",
       "      <td>225</td>\n",
       "    </tr>\n",
       "    <tr>\n",
       "      <th>5</th>\n",
       "      <td>Audi</td>\n",
       "      <td>164</td>\n",
       "    </tr>\n",
       "  </tbody>\n",
       "</table>\n",
       "</div>"
      ],
      "text/plain": [
       "  Car Brand  Unique Mention Frequency\n",
       "1       BMW                       890\n",
       "2     Acura                       286\n",
       "3  Infiniti                       247\n",
       "4     Lexus                       225\n",
       "5      Audi                       164"
      ]
     },
     "execution_count": 567,
     "metadata": {},
     "output_type": "execute_result"
    }
   ],
   "source": [
    "top5df"
   ]
  },
  {
   "cell_type": "code",
   "execution_count": 41,
   "metadata": {},
   "outputs": [
    {
     "data": {
      "image/png": "[encoded data removed]",
      "text/plain": [
       "<Figure size 432x288 with 1 Axes>"
      ]
     },
     "metadata": {
      "needs_background": "light"
     },
     "output_type": "display_data"
    }
   ],
   "source": [
    "import matplotlib.pyplot as plt\n",
    "import seaborn as sns\n",
    "\n",
    "sns.barplot(data=top5df, x=\"Unique Mention Frequency\", y=\"Car Brand\", orient=\"h\", palette=[\"navy\", \"black\", \"grey\", \"grey\", \"grey\"])\n",
    "plt.xlabel(\"Unique Mention Frequency\")\n",
    "plt.ylabel(\"Car Brand\")\n",
    "plt.title(\"Top 5 Most Frequently Mentioned Car Brands\", size=18)\n",
    "sns.despine()\n",
    "\n",
    "plt.text(x=top5count[0], y=0, s=top5count[0], \n",
    "                 color='black', fontsize=12)\n",
    "plt.text(x=top5count[1], y=1, s=top5count[1], \n",
    "                 color='black', fontsize=12)\n",
    "plt.text(x=top5count[2], y=2, s=top5count[2], \n",
    "                 color='black', fontsize=12)\n",
    "plt.text(x=top5count[3], y=3, s=top5count[3], \n",
    "                 color='black', fontsize=12)\n",
    "plt.text(x=top5count[4], y=4, s=top5count[4], \n",
    "                 color='black', fontsize=12)\n",
    "\n",
    "plt.show()"
   ]
  },
  {
   "cell_type": "markdown",
   "metadata": {},
   "source": [
    "# Question C"
   ]
  },
  {
   "cell_type": "code",
   "execution_count": 44,
   "metadata": {},
   "outputs": [],
   "source": [
    "counts = {}\n",
    "\n",
    "for i in range(len(carbrandsfinal)):\n",
    "    for j in range(i+1, len(carbrandsfinal)):\n",
    "        counts[(carbrandsfinal[i], carbrandsfinal[j])] = 0"
   ]
  },
  {
   "cell_type": "code",
   "execution_count": 45,
   "metadata": {},
   "outputs": [],
   "source": [
    "for post in pc_clean:\n",
    "    words = post.split()\n",
    "    counted_pairs = set()\n",
    "    for i in range(len(words)):\n",
    "        for j in range(i+1, len(words)):\n",
    "            if words[i] in carbrandsfinal and words[j] in carbrandsfinal:\n",
    "                word_pair = (words[i], words[j])\n",
    "                if word_pair not in counted_pairs:\n",
    "                    if word_pair not in counts:\n",
    "                        word_pair_rev=word_pair[::-1]\n",
    "                        counts[word_pair_rev]=+1\n",
    "                        counted_pairs.add(word_pair_rev)\n",
    "                    else:\n",
    "                        counts[word_pair] += 1\n",
    "                        counted_pairs.add(word_pair)"
   ]
  },
  {
   "cell_type": "code",
   "execution_count": 46,
   "metadata": {},
   "outputs": [],
   "source": [
    "toppairsdict=dict(sorted(counts.items(), key=lambda item:item[1], reverse=True))"
   ]
  },
  {
   "cell_type": "code",
   "execution_count": 47,
   "metadata": {},
   "outputs": [],
   "source": [
    "for key in list(toppairsdict.keys()):\n",
    "    if key[0]==key[1]:\n",
    "        del toppairsdict[key]"
   ]
  },
  {
   "cell_type": "code",
   "execution_count": 568,
   "metadata": {},
   "outputs": [],
   "source": [
    "sortedcounts=list(toppairsdict.values())\n",
    "sortedpairs=list(toppairsdict.keys())\n",
    "\n",
    "top5count=sortedcounts[0:5]\n",
    "top5pairs=sortedpairs[0:5]\n",
    "\n",
    "top5pairsdf=pd.DataFrame(list(zip(top5pairs, top5count)), columns=[\"Car Brand Pairs\", \"Pair Mention Frequency\"], index=[1,2,3,4,5])"
   ]
  },
  {
   "cell_type": "code",
   "execution_count": 569,
   "metadata": {},
   "outputs": [
    {
     "data": {
      "text/html": [
       "<div>\n",
       "<style scoped>\n",
       "    .dataframe tbody tr th:only-of-type {\n",
       "        vertical-align: middle;\n",
       "    }\n",
       "\n",
       "    .dataframe tbody tr th {\n",
       "        vertical-align: top;\n",
       "    }\n",
       "\n",
       "    .dataframe thead th {\n",
       "        text-align: right;\n",
       "    }\n",
       "</style>\n",
       "<table border=\"1\" class=\"dataframe\">\n",
       "  <thead>\n",
       "    <tr style=\"text-align: right;\">\n",
       "      <th></th>\n",
       "      <th>Car Brand Pairs</th>\n",
       "      <th>Pair Mention Frequency</th>\n",
       "    </tr>\n",
       "  </thead>\n",
       "  <tbody>\n",
       "    <tr>\n",
       "      <th>1</th>\n",
       "      <td>(Infiniti, Saab)</td>\n",
       "      <td>7</td>\n",
       "    </tr>\n",
       "    <tr>\n",
       "      <th>2</th>\n",
       "      <td>(Audi, Subaru)</td>\n",
       "      <td>6</td>\n",
       "    </tr>\n",
       "    <tr>\n",
       "      <th>3</th>\n",
       "      <td>(Acura, Jaguar)</td>\n",
       "      <td>6</td>\n",
       "    </tr>\n",
       "    <tr>\n",
       "      <th>4</th>\n",
       "      <td>(Audi, Saab)</td>\n",
       "      <td>5</td>\n",
       "    </tr>\n",
       "    <tr>\n",
       "      <th>5</th>\n",
       "      <td>(BMW, Lexus)</td>\n",
       "      <td>5</td>\n",
       "    </tr>\n",
       "  </tbody>\n",
       "</table>\n",
       "</div>"
      ],
      "text/plain": [
       "    Car Brand Pairs  Pair Mention Frequency\n",
       "1  (Infiniti, Saab)                       7\n",
       "2    (Audi, Subaru)                       6\n",
       "3   (Acura, Jaguar)                       6\n",
       "4      (Audi, Saab)                       5\n",
       "5      (BMW, Lexus)                       5"
      ]
     },
     "execution_count": 569,
     "metadata": {},
     "output_type": "execute_result"
    }
   ],
   "source": [
    "top5pairsdf"
   ]
  },
  {
   "cell_type": "code",
   "execution_count": 49,
   "metadata": {},
   "outputs": [
    {
     "data": {
      "image/png": "[encoded data removed]",
      "text/plain": [
       "<Figure size 432x288 with 1 Axes>"
      ]
     },
     "metadata": {
      "needs_background": "light"
     },
     "output_type": "display_data"
    }
   ],
   "source": [
    "sns.barplot(data=top5pairsdf, x=\"Pair Mention Frequency\", y=\"Car Brand Pairs\", orient=\"h\", palette=[\"green\", \"black\", \"black\", \"grey\", \"grey\"])\n",
    "plt.xlabel(\"Pair Mention Frequency\")\n",
    "plt.ylabel(\"Car Brand Pairs\")\n",
    "plt.title(\"Top 5 Most Frequently Mentioned Car Brand Pairs\", size=18)\n",
    "sns.despine()\n",
    "\n",
    "plt.text(x=top5count[0], y=0, s=top5count[0], \n",
    "                 color='black', fontsize=12)\n",
    "plt.text(x=top5count[1], y=1, s=top5count[1], \n",
    "                 color='black', fontsize=12)\n",
    "plt.text(x=top5count[2], y=2, s=top5count[2], \n",
    "                 color='black', fontsize=12)\n",
    "plt.text(x=top5count[3], y=3, s=top5count[3], \n",
    "                 color='black', fontsize=12)\n",
    "plt.text(x=top5count[4], y=4, s=top5count[4], \n",
    "                 color='black', fontsize=12)\n",
    "\n",
    "plt.show()"
   ]
  },
  {
   "cell_type": "markdown",
   "metadata": {},
   "source": [
    "# Question D"
   ]
  },
  {
   "cell_type": "markdown",
   "metadata": {},
   "source": [
    "## Corpus Cleaning"
   ]
  },
  {
   "cell_type": "code",
   "execution_count": 52,
   "metadata": {
    "collapsed": true
   },
   "outputs": [
    {
     "name": "stdout",
     "output_type": "stream",
     "text": [
      "Collecting spacy\n",
      "  Downloading spacy-3.5.0-cp38-cp38-win_amd64.whl (12.6 MB)\n",
      "Requirement already satisfied: pydantic!=1.8,!=1.8.1,<1.11.0,>=1.7.4 in c:\\users\\rprat\\anaconda3\\lib\\site-packages (from spacy) (1.10.4)\n",
      "Collecting thinc<8.2.0,>=8.1.0\n",
      "  Downloading thinc-8.1.7-cp38-cp38-win_amd64.whl (1.3 MB)\n",
      "Collecting srsly<3.0.0,>=2.4.3\n",
      "  Downloading srsly-2.4.5-cp38-cp38-win_amd64.whl (481 kB)\n",
      "Requirement already satisfied: packaging>=20.0 in c:\\users\\rprat\\anaconda3\\lib\\site-packages (from spacy) (23.0)\n",
      "Requirement already satisfied: requests<3.0.0,>=2.13.0 in c:\\users\\rprat\\anaconda3\\lib\\site-packages (from spacy) (2.24.0)\n",
      "Requirement already satisfied: tqdm<5.0.0,>=4.38.0 in c:\\users\\rprat\\anaconda3\\lib\\site-packages (from spacy) (4.50.2)\n",
      "Requirement already satisfied: setuptools in c:\\users\\rprat\\anaconda3\\lib\\site-packages (from spacy) (50.3.1.post20201107)\n",
      "Requirement already satisfied: numpy>=1.15.0 in c:\\users\\rprat\\anaconda3\\lib\\site-packages (from spacy) (1.23.4)\n",
      "Collecting spacy-legacy<3.1.0,>=3.0.11\n",
      "  Downloading spacy_legacy-3.0.12-py2.py3-none-any.whl (29 kB)\n",
      "Collecting catalogue<2.1.0,>=2.0.6\n",
      "  Using cached catalogue-2.0.8-py3-none-any.whl (17 kB)\n",
      "Requirement already satisfied: jinja2 in c:\\users\\rprat\\anaconda3\\lib\\site-packages (from spacy) (2.11.2)\n",
      "Collecting wasabi<1.2.0,>=0.9.1\n",
      "  Downloading wasabi-1.1.1-py3-none-any.whl (27 kB)\n",
      "Collecting typer<0.8.0,>=0.3.0\n",
      "  Using cached typer-0.7.0-py3-none-any.whl (38 kB)\n",
      "Collecting pathy>=0.10.0\n",
      "  Using cached pathy-0.10.1-py3-none-any.whl (48 kB)\n",
      "Collecting preshed<3.1.0,>=3.0.2\n",
      "  Downloading preshed-3.0.8-cp38-cp38-win_amd64.whl (96 kB)\n",
      "Collecting murmurhash<1.1.0,>=0.28.0\n",
      "  Downloading murmurhash-1.0.9-cp38-cp38-win_amd64.whl (18 kB)\n",
      "Collecting spacy-loggers<2.0.0,>=1.0.0\n",
      "  Using cached spacy_loggers-1.0.4-py3-none-any.whl (11 kB)\n",
      "Collecting langcodes<4.0.0,>=3.2.0\n",
      "  Using cached langcodes-3.3.0-py3-none-any.whl (181 kB)\n",
      "Collecting smart-open<7.0.0,>=5.2.1\n",
      "  Using cached smart_open-6.3.0-py3-none-any.whl (56 kB)\n",
      "Collecting cymem<2.1.0,>=2.0.2\n",
      "  Downloading cymem-2.0.7-cp38-cp38-win_amd64.whl (30 kB)\n",
      "Requirement already satisfied: typing-extensions>=4.2.0 in c:\\users\\rprat\\anaconda3\\lib\\site-packages (from pydantic!=1.8,!=1.8.1,<1.11.0,>=1.7.4->spacy) (4.4.0)\n",
      "Collecting blis<0.8.0,>=0.7.8\n",
      "  Downloading blis-0.7.9-cp38-cp38-win_amd64.whl (7.0 MB)\n",
      "Collecting confection<1.0.0,>=0.0.1\n",
      "  Using cached confection-0.0.4-py3-none-any.whl (32 kB)\n",
      "Requirement already satisfied: idna<3,>=2.5 in c:\\users\\rprat\\anaconda3\\lib\\site-packages (from requests<3.0.0,>=2.13.0->spacy) (2.10)\n",
      "Requirement already satisfied: chardet<4,>=3.0.2 in c:\\users\\rprat\\anaconda3\\lib\\site-packages (from requests<3.0.0,>=2.13.0->spacy) (3.0.4)\n",
      "Requirement already satisfied: urllib3!=1.25.0,!=1.25.1,<1.26,>=1.21.1 in c:\\users\\rprat\\anaconda3\\lib\\site-packages (from requests<3.0.0,>=2.13.0->spacy) (1.25.11)\n",
      "Requirement already satisfied: certifi>=2017.4.17 in c:\\users\\rprat\\anaconda3\\lib\\site-packages (from requests<3.0.0,>=2.13.0->spacy) (2020.6.20)\n",
      "Requirement already satisfied: MarkupSafe>=0.23 in c:\\users\\rprat\\anaconda3\\lib\\site-packages (from jinja2->spacy) (1.1.1)\n",
      "Collecting colorama>=0.4.6; sys_platform == \"win32\" and python_version >= \"3.7\"\n",
      "  Downloading colorama-0.4.6-py2.py3-none-any.whl (25 kB)\n",
      "Requirement already satisfied: click<9.0.0,>=7.1.1 in c:\\users\\rprat\\anaconda3\\lib\\site-packages (from typer<0.8.0,>=0.3.0->spacy) (7.1.2)\n",
      "Installing collected packages: blis, catalogue, cymem, colorama, wasabi, srsly, murmurhash, preshed, confection, thinc, spacy-legacy, typer, smart-open, pathy, spacy-loggers, langcodes, spacy\n",
      "  Attempting uninstall: colorama\n",
      "    Found existing installation: colorama 0.4.4\n",
      "    Uninstalling colorama-0.4.4:\n",
      "      Successfully uninstalled colorama-0.4.4\n",
      "Successfully installed blis-0.7.9 catalogue-2.0.8 colorama-0.4.6 confection-0.0.4 cymem-2.0.7 langcodes-3.3.0 murmurhash-1.0.9 pathy-0.10.1 preshed-3.0.8 smart-open-6.3.0 spacy-3.5.0 spacy-legacy-3.0.12 spacy-loggers-1.0.4 srsly-2.4.5 thinc-8.1.7 typer-0.7.0 wasabi-1.1.1\n"
     ]
    }
   ],
   "source": [
    "!pip install spacy"
   ]
  },
  {
   "cell_type": "code",
   "execution_count": 91,
   "metadata": {},
   "outputs": [],
   "source": [
    "from nltk.corpus import stopwords\n",
    "import spacy\n",
    "import string"
   ]
  },
  {
   "cell_type": "code",
   "execution_count": 92,
   "metadata": {},
   "outputs": [
    {
     "name": "stderr",
     "output_type": "stream",
     "text": [
      "[nltk_data] Downloading package stopwords to\n",
      "[nltk_data]     C:\\Users\\rprat\\AppData\\Roaming\\nltk_data...\n",
      "[nltk_data]   Unzipping corpora\\stopwords.zip.\n"
     ]
    },
    {
     "data": {
      "text/plain": [
       "True"
      ]
     },
     "execution_count": 92,
     "metadata": {},
     "output_type": "execute_result"
    }
   ],
   "source": [
    "nltk.download('stopwords')"
   ]
  },
  {
   "cell_type": "markdown",
   "metadata": {},
   "source": [
    "### Lowercasing"
   ]
  },
  {
   "cell_type": "code",
   "execution_count": 269,
   "metadata": {},
   "outputs": [],
   "source": [
    "loweredpostlist=[post.lower() for post in pc_clean]"
   ]
  },
  {
   "cell_type": "markdown",
   "metadata": {},
   "source": [
    "###  Counting Attributes (Adjectives)"
   ]
  },
  {
   "cell_type": "code",
   "execution_count": 234,
   "metadata": {},
   "outputs": [
    {
     "name": "stderr",
     "output_type": "stream",
     "text": [
      "[nltk_data] Downloading package averaged_perceptron_tagger to\n",
      "[nltk_data]     C:\\Users\\rprat\\AppData\\Roaming\\nltk_data...\n",
      "[nltk_data]   Unzipping taggers\\averaged_perceptron_tagger.zip.\n"
     ]
    },
    {
     "data": {
      "text/plain": [
       "True"
      ]
     },
     "execution_count": 234,
     "metadata": {},
     "output_type": "execute_result"
    }
   ],
   "source": [
    "nltk.download('averaged_perceptron_tagger')"
   ]
  },
  {
   "cell_type": "code",
   "execution_count": 314,
   "metadata": {},
   "outputs": [
    {
     "name": "stderr",
     "output_type": "stream",
     "text": [
      "[nltk_data] Downloading package universal_tagset to\n",
      "[nltk_data]     C:\\Users\\rprat\\AppData\\Roaming\\nltk_data...\n",
      "[nltk_data]   Unzipping taggers\\universal_tagset.zip.\n"
     ]
    },
    {
     "data": {
      "text/plain": [
       "True"
      ]
     },
     "execution_count": 314,
     "metadata": {},
     "output_type": "execute_result"
    }
   ],
   "source": [
    "nltk.download('universal_tagset')"
   ]
  },
  {
   "cell_type": "code",
   "execution_count": 586,
   "metadata": {},
   "outputs": [],
   "source": [
    "adjcount={}\n",
    "\n",
    "for post in loweredpostlist:\n",
    "    sentences=nltk.sent_tokenize(post)\n",
    "    \n",
    "    words = []\n",
    "    for sentence in sentences:\n",
    "        words.extend(nltk.word_tokenize(sentence))\n",
    "    \n",
    "    tagged_words=nltk.pos_tag(words)\n",
    "    \n",
    "    adjs = [word[0] for word in tagged_words if word[1] == 'JJ']\n",
    "\n",
    "    for adj in adjs:\n",
    "        if adj in adjcount:\n",
    "            adjcount[adj] += 1\n",
    "        else:\n",
    "            adjcount[adj] = 1\n",
    "\n",
    "#remove adjectives that do not relate to physical or operational attributes\n",
    "for adj in [\"i\", \"other\", \"much\", \"many\", \"same\", \"sure\", \"few\", \"own\", \"only\",\"next\", \n",
    "            \"true\", \"infiniti\", \"such\", \"right\", \"wrong\", \"last\", \"new\", \"different\", \"good\", \"great\", \"nice\",\n",
    "           \"bad\", \"japanese\", \"interior\", \"real\", \"lexus\",\"x-type\", \"soft\", \"first\", \"hard\", \"nissan\",\"bmw\",\"top\", \"audi\", \n",
    "            \"excellent\", \"second\", \"several\"]:\n",
    "    adjcount.pop(adj)"
   ]
  },
  {
   "cell_type": "code",
   "execution_count": 587,
   "metadata": {},
   "outputs": [],
   "source": [
    "import operator\n",
    "sorted_by_most_common = sorted(adjcount.items(), key=operator.itemgetter(1), reverse=True)\n",
    "\n",
    "top5adj={}\n",
    "\n",
    "for word, count in sorted_by_most_common[:5]:\n",
    "    top5adj[word.capitalize()]=count"
   ]
  },
  {
   "cell_type": "code",
   "execution_count": 588,
   "metadata": {},
   "outputs": [
    {
     "data": {
      "text/html": [
       "<div>\n",
       "<style scoped>\n",
       "    .dataframe tbody tr th:only-of-type {\n",
       "        vertical-align: middle;\n",
       "    }\n",
       "\n",
       "    .dataframe tbody tr th {\n",
       "        vertical-align: top;\n",
       "    }\n",
       "\n",
       "    .dataframe thead th {\n",
       "        text-align: right;\n",
       "    }\n",
       "</style>\n",
       "<table border=\"1\" class=\"dataframe\">\n",
       "  <thead>\n",
       "    <tr style=\"text-align: right;\">\n",
       "      <th></th>\n",
       "      <th>Adjective</th>\n",
       "      <th>Mention Frequency</th>\n",
       "    </tr>\n",
       "  </thead>\n",
       "  <tbody>\n",
       "    <tr>\n",
       "      <th>1</th>\n",
       "      <td>Manual</td>\n",
       "      <td>402</td>\n",
       "    </tr>\n",
       "    <tr>\n",
       "      <th>2</th>\n",
       "      <td>Little</td>\n",
       "      <td>324</td>\n",
       "    </tr>\n",
       "    <tr>\n",
       "      <th>3</th>\n",
       "      <td>Big</td>\n",
       "      <td>265</td>\n",
       "    </tr>\n",
       "    <tr>\n",
       "      <th>4</th>\n",
       "      <td>Old</td>\n",
       "      <td>261</td>\n",
       "    </tr>\n",
       "    <tr>\n",
       "      <th>5</th>\n",
       "      <td>High</td>\n",
       "      <td>230</td>\n",
       "    </tr>\n",
       "  </tbody>\n",
       "</table>\n",
       "</div>"
      ],
      "text/plain": [
       "  Adjective  Mention Frequency\n",
       "1    Manual                402\n",
       "2    Little                324\n",
       "3       Big                265\n",
       "4       Old                261\n",
       "5      High                230"
      ]
     },
     "execution_count": 588,
     "metadata": {},
     "output_type": "execute_result"
    }
   ],
   "source": [
    "top5adjdf=pd.DataFrame(top5adj.items(), columns=[\"Adjective\", \"Mention Frequency\"], index=[1,2,3,4,5])\n",
    "top5adjdf"
   ]
  },
  {
   "cell_type": "code",
   "execution_count": 375,
   "metadata": {
    "collapsed": true
   },
   "outputs": [
    {
     "name": "stdout",
     "output_type": "stream",
     "text": [
      "Collecting wordcloud\n",
      "  Downloading wordcloud-1.8.2.2-cp38-cp38-win_amd64.whl (152 kB)\n",
      "Requirement already satisfied: matplotlib in c:\\users\\rprat\\anaconda3\\lib\\site-packages (from wordcloud) (3.3.2)\n",
      "Requirement already satisfied: numpy>=1.6.1 in c:\\users\\rprat\\anaconda3\\lib\\site-packages (from wordcloud) (1.23.4)\n",
      "Requirement already satisfied: pillow in c:\\users\\rprat\\anaconda3\\lib\\site-packages (from wordcloud) (8.0.1)\n",
      "Requirement already satisfied: python-dateutil>=2.1 in c:\\users\\rprat\\anaconda3\\lib\\site-packages (from matplotlib->wordcloud) (2.8.1)\n",
      "Requirement already satisfied: pyparsing!=2.0.4,!=2.1.2,!=2.1.6,>=2.0.3 in c:\\users\\rprat\\anaconda3\\lib\\site-packages (from matplotlib->wordcloud) (2.4.7)\n",
      "Requirement already satisfied: certifi>=2020.06.20 in c:\\users\\rprat\\anaconda3\\lib\\site-packages (from matplotlib->wordcloud) (2020.6.20)\n",
      "Requirement already satisfied: cycler>=0.10 in c:\\users\\rprat\\anaconda3\\lib\\site-packages (from matplotlib->wordcloud) (0.10.0)\n",
      "Requirement already satisfied: kiwisolver>=1.0.1 in c:\\users\\rprat\\anaconda3\\lib\\site-packages (from matplotlib->wordcloud) (1.3.0)\n",
      "Requirement already satisfied: six>=1.5 in c:\\users\\rprat\\anaconda3\\lib\\site-packages (from python-dateutil>=2.1->matplotlib->wordcloud) (1.15.0)\n",
      "Installing collected packages: wordcloud\n",
      "Successfully installed wordcloud-1.8.2.2\n"
     ]
    }
   ],
   "source": [
    "!pip install wordcloud"
   ]
  },
  {
   "cell_type": "code",
   "execution_count": 589,
   "metadata": {},
   "outputs": [
    {
     "data": {
      "text/plain": [
       "<Figure size 432x288 with 0 Axes>"
      ]
     },
     "execution_count": 589,
     "metadata": {},
     "output_type": "execute_result"
    },
    {
     "data": {
      "image/png": "[encoded data removed]",
      "text/plain": [
       "<Figure size 360x360 with 1 Axes>"
      ]
     },
     "metadata": {
      "needs_background": "light"
     },
     "output_type": "display_data"
    },
    {
     "data": {
      "text/plain": [
       "<Figure size 432x288 with 0 Axes>"
      ]
     },
     "metadata": {},
     "output_type": "display_data"
    }
   ],
   "source": [
    "from wordcloud import WordCloud\n",
    "\n",
    "wc = WordCloud(background_color=\"white\").generate_from_frequencies(top5adj)\n",
    "\n",
    "plt.figure(figsize=(5, 5))\n",
    "plt.imshow(wc, interpolation='bilinear')\n",
    "plt.axis(\"off\")\n",
    "plt.title(\"Most Common Car Attributes\", size=20)\n",
    "plt.figure()"
   ]
  },
  {
   "cell_type": "markdown",
   "metadata": {},
   "source": [
    "### BMW Attributes"
   ]
  },
  {
   "cell_type": "code",
   "execution_count": 591,
   "metadata": {},
   "outputs": [
    {
     "data": {
      "text/plain": [
       "<Figure size 432x288 with 0 Axes>"
      ]
     },
     "execution_count": 591,
     "metadata": {},
     "output_type": "execute_result"
    },
    {
     "data": {
      "image/png": "[encoded data removed]",
      "text/plain": [
       "<Figure size 360x360 with 1 Axes>"
      ]
     },
     "metadata": {
      "needs_background": "light"
     },
     "output_type": "display_data"
    },
    {
     "data": {
      "text/plain": [
       "<Figure size 432x288 with 0 Axes>"
      ]
     },
     "metadata": {},
     "output_type": "display_data"
    }
   ],
   "source": [
    "bmwlist=[]\n",
    "\n",
    "for post in loweredpostlist:\n",
    "    if \"bmw\" in post:\n",
    "        bmwlist.append(post)\n",
    "        \n",
    "bmwadjcount={}\n",
    "\n",
    "for post in bmwlist:\n",
    "    sentences=nltk.sent_tokenize(post)\n",
    "    \n",
    "    words = []\n",
    "    for sentence in sentences:\n",
    "        words.extend(nltk.word_tokenize(sentence))\n",
    "    \n",
    "    tagged_words=nltk.pos_tag(words)\n",
    "    \n",
    "    adjs = [word[0] for word in tagged_words if word[1] == 'JJ']\n",
    "\n",
    "    for adj in adjs:\n",
    "        if adj in bmwadjcount:\n",
    "            bmwadjcount[adj] += 1\n",
    "        else:\n",
    "            bmwadjcount[adj] = 1\n",
    "\n",
    "for adj in [\"i\", \"other\", \"much\", \"many\", \"same\", \"sure\", \"few\", \"own\", \"only\",\"next\", \n",
    "            \"true\", \"infiniti\", \"such\", \"right\", \"wrong\", \"last\", \"new\", \"different\", \"good\", \"great\", \"nice\",\n",
    "           \"bad\", \"japanese\", \"interior\", \"real\", \"lexus\",\"x-type\", \"soft\", \"first\", \"hard\", \"nissan\",\"bmw\",\"top\", \"audi\", \n",
    "            \"excellent\", \"second\", \"several\"]:\n",
    "    bmwadjcount.pop(adj)            \n",
    "\n",
    "import operator\n",
    "sorted_by_most_common = sorted(bmwadjcount.items(), key=operator.itemgetter(1), reverse=True)\n",
    "\n",
    "top5bmwadj={}\n",
    "\n",
    "for word, count in sorted_by_most_common[:5]:\n",
    "    top5bmwadj[word.capitalize()]=count\n",
    "\n",
    "top5bmwadj\n",
    "\n",
    "from wordcloud import WordCloud\n",
    "\n",
    "wc = WordCloud(background_color=\"white\").generate_from_frequencies(top5bmwadj)\n",
    "\n",
    "plt.figure(figsize=(5, 5))\n",
    "plt.imshow(wc, interpolation='bilinear')\n",
    "plt.axis(\"off\")\n",
    "plt.title(\"Most Common BMW Attributes\", size=20)\n",
    "plt.figure()"
   ]
  },
  {
   "cell_type": "code",
   "execution_count": 593,
   "metadata": {},
   "outputs": [
    {
     "data": {
      "text/html": [
       "<div>\n",
       "<style scoped>\n",
       "    .dataframe tbody tr th:only-of-type {\n",
       "        vertical-align: middle;\n",
       "    }\n",
       "\n",
       "    .dataframe tbody tr th {\n",
       "        vertical-align: top;\n",
       "    }\n",
       "\n",
       "    .dataframe thead th {\n",
       "        text-align: right;\n",
       "    }\n",
       "</style>\n",
       "<table border=\"1\" class=\"dataframe\">\n",
       "  <thead>\n",
       "    <tr style=\"text-align: right;\">\n",
       "      <th></th>\n",
       "      <th>Adjective</th>\n",
       "      <th>Mention Frequency</th>\n",
       "    </tr>\n",
       "  </thead>\n",
       "  <tbody>\n",
       "    <tr>\n",
       "      <th>1</th>\n",
       "      <td>Manual</td>\n",
       "      <td>129</td>\n",
       "    </tr>\n",
       "    <tr>\n",
       "      <th>2</th>\n",
       "      <td>Little</td>\n",
       "      <td>123</td>\n",
       "    </tr>\n",
       "    <tr>\n",
       "      <th>3</th>\n",
       "      <td>Old</td>\n",
       "      <td>98</td>\n",
       "    </tr>\n",
       "    <tr>\n",
       "      <th>4</th>\n",
       "      <td>High</td>\n",
       "      <td>95</td>\n",
       "    </tr>\n",
       "    <tr>\n",
       "      <th>5</th>\n",
       "      <td>Big</td>\n",
       "      <td>93</td>\n",
       "    </tr>\n",
       "  </tbody>\n",
       "</table>\n",
       "</div>"
      ],
      "text/plain": [
       "  Adjective  Mention Frequency\n",
       "1    Manual                129\n",
       "2    Little                123\n",
       "3       Old                 98\n",
       "4      High                 95\n",
       "5       Big                 93"
      ]
     },
     "execution_count": 593,
     "metadata": {},
     "output_type": "execute_result"
    }
   ],
   "source": [
    "top5bmwdf=pd.DataFrame(top5bmwadj.items(), columns=[\"Adjective\", \"Mention Frequency\"], index=[1,2,3,4,5])\n",
    "top5bmwdf"
   ]
  },
  {
   "cell_type": "markdown",
   "metadata": {},
   "source": [
    "### Acura Attributes"
   ]
  },
  {
   "cell_type": "code",
   "execution_count": 458,
   "metadata": {},
   "outputs": [
    {
     "data": {
      "text/plain": [
       "<Figure size 432x288 with 0 Axes>"
      ]
     },
     "execution_count": 458,
     "metadata": {},
     "output_type": "execute_result"
    },
    {
     "data": {
      "image/png": "[encoded data removed]",
      "text/plain": [
       "<Figure size 360x360 with 1 Axes>"
      ]
     },
     "metadata": {
      "needs_background": "light"
     },
     "output_type": "display_data"
    },
    {
     "data": {
      "text/plain": [
       "<Figure size 432x288 with 0 Axes>"
      ]
     },
     "metadata": {},
     "output_type": "display_data"
    }
   ],
   "source": [
    "acuralist=[]\n",
    "\n",
    "for post in loweredpostlist:\n",
    "    if \"acura\" in post:\n",
    "        acuralist.append(post)\n",
    "        \n",
    "acuraadjcount={}\n",
    "\n",
    "for post in acuralist:\n",
    "    sentences=nltk.sent_tokenize(post)\n",
    "    \n",
    "    words = []\n",
    "    for sentence in sentences:\n",
    "        words.extend(nltk.word_tokenize(sentence))\n",
    "    \n",
    "    tagged_words=nltk.pos_tag(words)\n",
    "    \n",
    "    adjs = [word[0] for word in tagged_words if word[1] == 'JJ']\n",
    "\n",
    "    for adj in adjs:\n",
    "        if adj in acuraadjcount:\n",
    "            acuraadjcount[adj] += 1\n",
    "        else:\n",
    "            acuraadjcount[adj] = 1\n",
    "\n",
    "for adj in [\"i\", \"other\", \"much\", \"many\", \"same\", \"sure\", \"few\", \"own\", \"only\",\"next\", \n",
    "            \"true\", \"infiniti\", \"such\", \"right\", \"wrong\", \"last\", \"acura\", \"new\", \"different\", \"good\", \"great\", \"nice\",\n",
    "           \"bad\", \"japanese\", \"interior\", \"first\", \"nissan\", \"real\", \"top\", \"torque\", \"tl\", \"lexus\", \"old\", \"rear\", \"fine\",\n",
    "           \"hard\"]:\n",
    "    acuraadjcount.pop(adj)            \n",
    "\n",
    "import operator\n",
    "sorted_by_most_common = sorted(acuraadjcount.items(), key=operator.itemgetter(1), reverse=True)\n",
    "\n",
    "top5acuraadj={}\n",
    "\n",
    "for word, count in sorted_by_most_common[:5]:\n",
    "    top5acuraadj[word.capitalize()]=count\n",
    "\n",
    "from wordcloud import WordCloud\n",
    "\n",
    "wc = WordCloud(background_color=\"white\").generate_from_frequencies(top5acuraadj)\n",
    "\n",
    "plt.figure(figsize=(5, 5))\n",
    "plt.imshow(wc, interpolation='bilinear')\n",
    "plt.axis(\"off\")\n",
    "plt.title(\"Most Common Acura Attributes\", size=20)\n",
    "plt.figure()"
   ]
  },
  {
   "cell_type": "code",
   "execution_count": 594,
   "metadata": {},
   "outputs": [
    {
     "data": {
      "text/html": [
       "<div>\n",
       "<style scoped>\n",
       "    .dataframe tbody tr th:only-of-type {\n",
       "        vertical-align: middle;\n",
       "    }\n",
       "\n",
       "    .dataframe tbody tr th {\n",
       "        vertical-align: top;\n",
       "    }\n",
       "\n",
       "    .dataframe thead th {\n",
       "        text-align: right;\n",
       "    }\n",
       "</style>\n",
       "<table border=\"1\" class=\"dataframe\">\n",
       "  <thead>\n",
       "    <tr style=\"text-align: right;\">\n",
       "      <th></th>\n",
       "      <th>Adjective</th>\n",
       "      <th>Mention Frequency</th>\n",
       "    </tr>\n",
       "  </thead>\n",
       "  <tbody>\n",
       "    <tr>\n",
       "      <th>1</th>\n",
       "      <td>Fwd</td>\n",
       "      <td>48</td>\n",
       "    </tr>\n",
       "    <tr>\n",
       "      <th>2</th>\n",
       "      <td>Little</td>\n",
       "      <td>41</td>\n",
       "    </tr>\n",
       "    <tr>\n",
       "      <th>3</th>\n",
       "      <td>Manual</td>\n",
       "      <td>36</td>\n",
       "    </tr>\n",
       "    <tr>\n",
       "      <th>4</th>\n",
       "      <td>High</td>\n",
       "      <td>36</td>\n",
       "    </tr>\n",
       "    <tr>\n",
       "      <th>5</th>\n",
       "      <td>Small</td>\n",
       "      <td>30</td>\n",
       "    </tr>\n",
       "  </tbody>\n",
       "</table>\n",
       "</div>"
      ],
      "text/plain": [
       "  Adjective  Mention Frequency\n",
       "1       Fwd                 48\n",
       "2    Little                 41\n",
       "3    Manual                 36\n",
       "4      High                 36\n",
       "5     Small                 30"
      ]
     },
     "execution_count": 594,
     "metadata": {},
     "output_type": "execute_result"
    }
   ],
   "source": [
    "top5acuradf=pd.DataFrame(top5acuraadj.items(), columns=[\"Adjective\", \"Mention Frequency\"], index=[1,2,3,4,5])\n",
    "top5acuradf"
   ]
  },
  {
   "cell_type": "markdown",
   "metadata": {},
   "source": [
    "### Infiniti Attributes"
   ]
  },
  {
   "cell_type": "code",
   "execution_count": 599,
   "metadata": {},
   "outputs": [
    {
     "data": {
      "text/plain": [
       "<Figure size 432x288 with 0 Axes>"
      ]
     },
     "execution_count": 599,
     "metadata": {},
     "output_type": "execute_result"
    },
    {
     "data": {
      "image/png": "[encoded data removed]",
      "text/plain": [
       "<Figure size 360x360 with 1 Axes>"
      ]
     },
     "metadata": {
      "needs_background": "light"
     },
     "output_type": "display_data"
    },
    {
     "data": {
      "text/plain": [
       "<Figure size 432x288 with 0 Axes>"
      ]
     },
     "metadata": {},
     "output_type": "display_data"
    }
   ],
   "source": [
    "infinitilist=[]\n",
    "\n",
    "for post in loweredpostlist:\n",
    "    if \"infiniti\" in post:\n",
    "        infinitilist.append(post)\n",
    "        \n",
    "infinitiadjcount={}\n",
    "\n",
    "for post in infinitilist:\n",
    "    sentences=nltk.sent_tokenize(post)\n",
    "    \n",
    "    words = []\n",
    "    for sentence in sentences:\n",
    "        words.extend(nltk.word_tokenize(sentence))\n",
    "    \n",
    "    tagged_words=nltk.pos_tag(words)\n",
    "    \n",
    "    adjs = [word[0] for word in tagged_words if word[1] == 'JJ']\n",
    "\n",
    "    for adj in adjs:\n",
    "        if adj in infinitiadjcount:\n",
    "            infinitiadjcount[adj] += 1\n",
    "        else:\n",
    "            infinitiadjcount[adj] = 1\n",
    "\n",
    "for adj in [\"i\", \"other\", \"much\", \"many\", \"same\", \"sure\", \"few\", \"own\", \"only\",\"next\", \n",
    "            \"true\", \"infiniti\", \"such\", \"right\", \"wrong\", \"last\", \"new\", \"different\", \"good\", \"great\", \"nice\",\n",
    "           \"bad\", \"japanese\", \"interior\", \"first\", \"nissan\", \"real\", \"top\", \"torque\", \"tl\", \"lexus\", \"g35\",\"second\",\n",
    "           \"bmw\", \"old\", \"hard\"]:\n",
    "    infinitiadjcount.pop(adj)            \n",
    "\n",
    "import operator\n",
    "sorted_by_most_common = sorted(infinitiadjcount.items(), key=operator.itemgetter(1), reverse=True)\n",
    "\n",
    "top5infinitiadj={}\n",
    "\n",
    "for word, count in sorted_by_most_common[:5]:\n",
    "    top5infinitiadj[word.capitalize()]=count\n",
    "\n",
    "from wordcloud import WordCloud\n",
    "\n",
    "wc = WordCloud(background_color=\"white\").generate_from_frequencies(top5infinitiadj)\n",
    "\n",
    "plt.figure(figsize=(5, 5))\n",
    "plt.imshow(wc, interpolation='bilinear')\n",
    "plt.axis(\"off\")\n",
    "plt.title(\"Most Common Infiniti Attributes\", size=20)\n",
    "plt.figure()"
   ]
  },
  {
   "cell_type": "code",
   "execution_count": 601,
   "metadata": {},
   "outputs": [
    {
     "data": {
      "text/html": [
       "<div>\n",
       "<style scoped>\n",
       "    .dataframe tbody tr th:only-of-type {\n",
       "        vertical-align: middle;\n",
       "    }\n",
       "\n",
       "    .dataframe tbody tr th {\n",
       "        vertical-align: top;\n",
       "    }\n",
       "\n",
       "    .dataframe thead th {\n",
       "        text-align: right;\n",
       "    }\n",
       "</style>\n",
       "<table border=\"1\" class=\"dataframe\">\n",
       "  <thead>\n",
       "    <tr style=\"text-align: right;\">\n",
       "      <th></th>\n",
       "      <th>Adjective</th>\n",
       "      <th>Mention Frequency</th>\n",
       "    </tr>\n",
       "  </thead>\n",
       "  <tbody>\n",
       "    <tr>\n",
       "      <th>1</th>\n",
       "      <td>Manual</td>\n",
       "      <td>38</td>\n",
       "    </tr>\n",
       "    <tr>\n",
       "      <th>2</th>\n",
       "      <td>Little</td>\n",
       "      <td>37</td>\n",
       "    </tr>\n",
       "    <tr>\n",
       "      <th>3</th>\n",
       "      <td>Long</td>\n",
       "      <td>28</td>\n",
       "    </tr>\n",
       "    <tr>\n",
       "      <th>4</th>\n",
       "      <td>Big</td>\n",
       "      <td>26</td>\n",
       "    </tr>\n",
       "    <tr>\n",
       "      <th>5</th>\n",
       "      <td>High</td>\n",
       "      <td>23</td>\n",
       "    </tr>\n",
       "  </tbody>\n",
       "</table>\n",
       "</div>"
      ],
      "text/plain": [
       "  Adjective  Mention Frequency\n",
       "1    Manual                 38\n",
       "2    Little                 37\n",
       "3      Long                 28\n",
       "4       Big                 26\n",
       "5      High                 23"
      ]
     },
     "execution_count": 601,
     "metadata": {},
     "output_type": "execute_result"
    }
   ],
   "source": [
    "top5infinitidf=pd.DataFrame(top5infinitiadj.items(), columns=[\"Adjective\", \"Mention Frequency\"], index=[1,2,3,4,5])\n",
    "top5infinitidf"
   ]
  },
  {
   "cell_type": "markdown",
   "metadata": {},
   "source": [
    "### Lexus Attributes"
   ]
  },
  {
   "cell_type": "code",
   "execution_count": 605,
   "metadata": {},
   "outputs": [
    {
     "data": {
      "text/plain": [
       "<Figure size 432x288 with 0 Axes>"
      ]
     },
     "execution_count": 605,
     "metadata": {},
     "output_type": "execute_result"
    },
    {
     "data": {
      "image/png": "[encoded data removed]",
      "text/plain": [
       "<Figure size 360x360 with 1 Axes>"
      ]
     },
     "metadata": {
      "needs_background": "light"
     },
     "output_type": "display_data"
    },
    {
     "data": {
      "text/plain": [
       "<Figure size 432x288 with 0 Axes>"
      ]
     },
     "metadata": {},
     "output_type": "display_data"
    }
   ],
   "source": [
    "lexuslist=[]\n",
    "\n",
    "for post in loweredpostlist:\n",
    "    if \"lexus\" in post:\n",
    "        lexuslist.append(post)\n",
    "        \n",
    "lexusadjcount={}\n",
    "\n",
    "for post in lexuslist:\n",
    "    sentences=nltk.sent_tokenize(post)\n",
    "    \n",
    "    words = []\n",
    "    for sentence in sentences:\n",
    "        words.extend(nltk.word_tokenize(sentence))\n",
    "    \n",
    "    tagged_words=nltk.pos_tag(words)\n",
    "    \n",
    "    adjs = [word[0] for word in tagged_words if word[1] == 'JJ']\n",
    "\n",
    "    for adj in adjs:\n",
    "        if adj in lexusadjcount:\n",
    "            lexusadjcount[adj] += 1\n",
    "        else:\n",
    "            lexusadjcount[adj] = 1\n",
    "\n",
    "for adj in [\"i\", \"other\", \"much\", \"many\", \"same\", \"sure\", \"few\", \"own\", \"only\",\"next\", \n",
    "            \"true\", \"infiniti\", \"such\", \"right\", \"wrong\", \"last\", \"new\", \"different\", \"good\", \"great\", \"nice\",\n",
    "           \"bad\", \"japanese\", \"interior\", \"real\", \"lexus\",\"x-type\", \"soft\", \"first\", \"hard\", \"nissan\",\"bmw\",\"top\"]:\n",
    "    lexusadjcount.pop(adj)            \n",
    "\n",
    "import operator\n",
    "sorted_by_most_common = sorted(lexusadjcount.items(), key=operator.itemgetter(1), reverse=True)\n",
    "\n",
    "top5lexusadj={}\n",
    "\n",
    "for word, count in sorted_by_most_common[:5]:\n",
    "    top5lexusadj[word.capitalize()]=count\n",
    "\n",
    "from wordcloud import WordCloud\n",
    "\n",
    "wc = WordCloud(background_color=\"white\").generate_from_frequencies(top5lexusadj)\n",
    "\n",
    "plt.figure(figsize=(5, 5))\n",
    "plt.imshow(wc, interpolation='bilinear')\n",
    "plt.axis(\"off\")\n",
    "plt.title(\"Most Common Lexus Attributes\", size=20)\n",
    "plt.figure()"
   ]
  },
  {
   "cell_type": "code",
   "execution_count": 607,
   "metadata": {},
   "outputs": [
    {
     "data": {
      "text/html": [
       "<div>\n",
       "<style scoped>\n",
       "    .dataframe tbody tr th:only-of-type {\n",
       "        vertical-align: middle;\n",
       "    }\n",
       "\n",
       "    .dataframe tbody tr th {\n",
       "        vertical-align: top;\n",
       "    }\n",
       "\n",
       "    .dataframe thead th {\n",
       "        text-align: right;\n",
       "    }\n",
       "</style>\n",
       "<table border=\"1\" class=\"dataframe\">\n",
       "  <thead>\n",
       "    <tr style=\"text-align: right;\">\n",
       "      <th></th>\n",
       "      <th>Adjective</th>\n",
       "      <th>Mention Frequency</th>\n",
       "    </tr>\n",
       "  </thead>\n",
       "  <tbody>\n",
       "    <tr>\n",
       "      <th>1</th>\n",
       "      <td>Manual</td>\n",
       "      <td>59</td>\n",
       "    </tr>\n",
       "    <tr>\n",
       "      <th>2</th>\n",
       "      <td>Little</td>\n",
       "      <td>33</td>\n",
       "    </tr>\n",
       "    <tr>\n",
       "      <th>3</th>\n",
       "      <td>Automatic</td>\n",
       "      <td>24</td>\n",
       "    </tr>\n",
       "    <tr>\n",
       "      <th>4</th>\n",
       "      <td>Old</td>\n",
       "      <td>23</td>\n",
       "    </tr>\n",
       "    <tr>\n",
       "      <th>5</th>\n",
       "      <td>Reliable</td>\n",
       "      <td>23</td>\n",
       "    </tr>\n",
       "  </tbody>\n",
       "</table>\n",
       "</div>"
      ],
      "text/plain": [
       "   Adjective  Mention Frequency\n",
       "1     Manual                 59\n",
       "2     Little                 33\n",
       "3  Automatic                 24\n",
       "4        Old                 23\n",
       "5   Reliable                 23"
      ]
     },
     "execution_count": 607,
     "metadata": {},
     "output_type": "execute_result"
    }
   ],
   "source": [
    "top5lexusdf=pd.DataFrame(top5lexusadj.items(), columns=[\"Adjective\", \"Mention Frequency\"], index=[1,2,3,4,5])\n",
    "top5lexusdf"
   ]
  },
  {
   "cell_type": "markdown",
   "metadata": {},
   "source": [
    "### Audi Attributes "
   ]
  },
  {
   "cell_type": "code",
   "execution_count": 468,
   "metadata": {},
   "outputs": [
    {
     "data": {
      "text/plain": [
       "<Figure size 432x288 with 0 Axes>"
      ]
     },
     "execution_count": 468,
     "metadata": {},
     "output_type": "execute_result"
    },
    {
     "data": {
      "image/png": "[encoded data removed]",
      "text/plain": [
       "<Figure size 360x360 with 1 Axes>"
      ]
     },
     "metadata": {
      "needs_background": "light"
     },
     "output_type": "display_data"
    },
    {
     "data": {
      "text/plain": [
       "<Figure size 432x288 with 0 Axes>"
      ]
     },
     "metadata": {},
     "output_type": "display_data"
    }
   ],
   "source": [
    "audilist=[]\n",
    "\n",
    "for post in loweredpostlist:\n",
    "    if \"audi\" in post:\n",
    "        audilist.append(post)\n",
    "        \n",
    "audiadjcount={}\n",
    "\n",
    "for post in audilist:\n",
    "    sentences=nltk.sent_tokenize(post)\n",
    "    \n",
    "    words = []\n",
    "    for sentence in sentences:\n",
    "        words.extend(nltk.word_tokenize(sentence))\n",
    "    \n",
    "    tagged_words=nltk.pos_tag(words)\n",
    "    \n",
    "    adjs = [word[0] for word in tagged_words if word[1] == 'JJ']\n",
    "\n",
    "    for adj in adjs:\n",
    "        if adj in audiadjcount:\n",
    "            audiadjcount[adj] += 1\n",
    "        else:\n",
    "            audiadjcount[adj] = 1\n",
    "\n",
    "for adj in [\"i\", \"other\", \"much\", \"many\", \"same\", \"sure\", \"few\", \"own\", \"only\",\"next\", \n",
    "            \"true\", \"infiniti\", \"such\", \"right\", \"wrong\", \"last\", \"new\", \"different\", \"good\", \"great\", \"nice\",\n",
    "           \"bad\", \"japanese\", \"interior\", \"real\", \"lexus\",\"x-type\", \"soft\", \"first\", \"hard\", \"nissan\",\"bmw\",\"top\", \"audi\", \n",
    "            \"excellent\", \"second\", \"several\"]:\n",
    "    audiadjcount.pop(adj)            \n",
    "\n",
    "import operator\n",
    "sorted_by_most_common = sorted(audiadjcount.items(), key=operator.itemgetter(1), reverse=True)\n",
    "\n",
    "top5audiadj={}\n",
    "\n",
    "for word, count in sorted_by_most_common[:5]:\n",
    "    top5audiadj[word.capitalize()]=count\n",
    "\n",
    "from wordcloud import WordCloud\n",
    "\n",
    "wc = WordCloud(background_color=\"white\").generate_from_frequencies(top5audiadj)\n",
    "\n",
    "plt.figure(figsize=(5, 5))\n",
    "plt.imshow(wc, interpolation='bilinear')\n",
    "plt.axis(\"off\")\n",
    "plt.title(\"Most Common Audi Attributes\", size=20)\n",
    "plt.figure()"
   ]
  },
  {
   "cell_type": "code",
   "execution_count": 608,
   "metadata": {},
   "outputs": [
    {
     "data": {
      "text/html": [
       "<div>\n",
       "<style scoped>\n",
       "    .dataframe tbody tr th:only-of-type {\n",
       "        vertical-align: middle;\n",
       "    }\n",
       "\n",
       "    .dataframe tbody tr th {\n",
       "        vertical-align: top;\n",
       "    }\n",
       "\n",
       "    .dataframe thead th {\n",
       "        text-align: right;\n",
       "    }\n",
       "</style>\n",
       "<table border=\"1\" class=\"dataframe\">\n",
       "  <thead>\n",
       "    <tr style=\"text-align: right;\">\n",
       "      <th></th>\n",
       "      <th>Adjective</th>\n",
       "      <th>Mention Frequency</th>\n",
       "    </tr>\n",
       "  </thead>\n",
       "  <tbody>\n",
       "    <tr>\n",
       "      <th>1</th>\n",
       "      <td>Manual</td>\n",
       "      <td>54</td>\n",
       "    </tr>\n",
       "    <tr>\n",
       "      <th>2</th>\n",
       "      <td>Little</td>\n",
       "      <td>42</td>\n",
       "    </tr>\n",
       "    <tr>\n",
       "      <th>3</th>\n",
       "      <td>High</td>\n",
       "      <td>35</td>\n",
       "    </tr>\n",
       "    <tr>\n",
       "      <th>4</th>\n",
       "      <td>Old</td>\n",
       "      <td>31</td>\n",
       "    </tr>\n",
       "    <tr>\n",
       "      <th>5</th>\n",
       "      <td>Low</td>\n",
       "      <td>24</td>\n",
       "    </tr>\n",
       "  </tbody>\n",
       "</table>\n",
       "</div>"
      ],
      "text/plain": [
       "  Adjective  Mention Frequency\n",
       "1    Manual                 54\n",
       "2    Little                 42\n",
       "3      High                 35\n",
       "4       Old                 31\n",
       "5       Low                 24"
      ]
     },
     "execution_count": 608,
     "metadata": {},
     "output_type": "execute_result"
    }
   ],
   "source": [
    "top5audidf=pd.DataFrame(top5audiadj.items(), columns=[\"Adjective\", \"Mention Frequency\"], index=[1,2,3,4,5])\n",
    "top5audidf"
   ]
  },
  {
   "cell_type": "markdown",
   "metadata": {},
   "source": [
    "# Question E"
   ]
  },
  {
   "cell_type": "code",
   "execution_count": 526,
   "metadata": {},
   "outputs": [],
   "source": [
    "qualityadj=[\"good\", \"great\", \"nice\", \"amazing\", \"excellent\", \"perfect\", \"popular\", \"favourite\", \"favorite\", \"beautiful\", \n",
    "           \"love\", \"fantastic\", \"reliable\", \"classic\", \"affordable\"]"
   ]
  },
  {
   "cell_type": "code",
   "execution_count": 527,
   "metadata": {},
   "outputs": [],
   "source": [
    "qualitypost=[]\n",
    "\n",
    "for post in pc_clean:\n",
    "    sentences=nltk.sent_tokenize(post)\n",
    "    words = []\n",
    "    for sentence in sentences:\n",
    "        words.extend(nltk.word_tokenize(sentence))\n",
    "    for word in words:\n",
    "        if word in qualityadj:\n",
    "            qualitypost.append(post)"
   ]
  },
  {
   "cell_type": "code",
   "execution_count": 529,
   "metadata": {},
   "outputs": [],
   "source": [
    "def qualitycounter(text, qualitywords):\n",
    "    qualitywordcount=0\n",
    "    sentences=nltk.sent_tokenize(text)\n",
    "    words = []\n",
    "    for sentence in sentences:\n",
    "        words.extend(nltk.word_tokenize(sentence))\n",
    "    for word in words:\n",
    "        if word in qualitywords:\n",
    "            qualitywordcount+=1\n",
    "    return qualitywordcount   "
   ]
  },
  {
   "cell_type": "code",
   "execution_count": 546,
   "metadata": {},
   "outputs": [],
   "source": [
    "count2={}\n",
    "for brand in carbrandsfinal:\n",
    "    brandpost=[]\n",
    "    for post in qualitypost:\n",
    "        words=post.split()\n",
    "        if brand in words:\n",
    "            brandpost.append(post)\n",
    "    brandcontent=''.join(brandpost)\n",
    "    qualitycount=qualitycounter(brandcontent, qualityadj)\n",
    "    count2[brand]=qualitycount"
   ]
  },
  {
   "cell_type": "code",
   "execution_count": 555,
   "metadata": {},
   "outputs": [],
   "source": [
    "topqualitybrandsdict=dict(sorted(count2.items(), key=lambda item:item[1], reverse=True))\n",
    "\n",
    "sortedcounts=list(topqualitybrandsdict.values())\n",
    "sortedqualitycars=list(topqualitybrandsdict.keys())\n",
    "\n",
    "top5count=sortedcounts[0:5]\n",
    "top5qualitycars=sortedqualitycars[0:5]\n",
    "\n",
    "top5qualitycarsdf=pd.DataFrame(list(zip(top5qualitycars, top5count)), columns=[\"Car Brand\", \"Number of Quality Attribute Mentions\"])"
   ]
  },
  {
   "cell_type": "code",
   "execution_count": 558,
   "metadata": {},
   "outputs": [
    {
     "data": {
      "image/png": "[encoded data removed]",
      "text/plain": [
       "<Figure size 432x288 with 1 Axes>"
      ]
     },
     "metadata": {
      "needs_background": "light"
     },
     "output_type": "display_data"
    }
   ],
   "source": [
    "sns.barplot(data=top5qualitycarsdf, x=\"Number of Quality Attribute Mentions\", y=\"Car Brand\", orient=\"h\", palette=[\"orange\", \"black\", \"grey\", \"grey\", \"grey\"])\n",
    "plt.xlabel(\"Quality Attribute Mention Frequency\")\n",
    "plt.ylabel(\"Car Brand\")\n",
    "plt.title(\"Top 5 Car Brands with Most Quality Attribute Mentions\", size=18)\n",
    "sns.despine()\n",
    "\n",
    "plt.text(x=top5count[0], y=0, s=top5count[0], \n",
    "                 color='black', fontsize=12)\n",
    "plt.text(x=top5count[1], y=1, s=top5count[1], \n",
    "                 color='black', fontsize=12)\n",
    "plt.text(x=top5count[2], y=2, s=top5count[2], \n",
    "                 color='black', fontsize=12)\n",
    "plt.text(x=top5count[3], y=3, s=top5count[3], \n",
    "                 color='black', fontsize=12)\n",
    "plt.text(x=top5count[4], y=4, s=top5count[4], \n",
    "                 color='black', fontsize=12)\n",
    "\n",
    "plt.show()"
   ]
  }
 ],
 "metadata": {
  "kernelspec": {
   "display_name": "Python 3",
   "language": "python",
   "name": "python3"
  },
  "language_info": {
   "codemirror_mode": {
    "name": "ipython",
    "version": 3
   },
   "file_extension": ".py",
   "mimetype": "text/x-python",
   "name": "python",
   "nbconvert_exporter": "python",
   "pygments_lexer": "ipython3",
   "version": "3.8.5"
  }
 },
 "nbformat": 4,
 "nbformat_minor": 4
}
